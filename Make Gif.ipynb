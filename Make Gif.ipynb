{
 "cells": [
  {
   "cell_type": "code",
   "execution_count": 2,
   "metadata": {
    "collapsed": false
   },
   "outputs": [],
   "source": [
    "from os import listdir, makedirs, system\n",
    "from os.path import isfile, join, exists\n",
    "from shutil import copyfile\n",
    "\n",
    "files = [f for f in listdir(\"subset\")]\n",
    "\n",
    "if exists(\"stepped\") == False:\n",
    "    makedirs(\"stepped\")\n",
    "\n",
    "for i in range(len(files)):\n",
    "    if i % 10 == 0:\n",
    "        copyfile(join(\"subset\",files[i]), join(\"stepped\",files[i]))"
   ]
  },
  {
   "cell_type": "code",
   "execution_count": 3,
   "metadata": {
    "collapsed": false
   },
   "outputs": [],
   "source": [
    "from PIL import Image\n",
    "\n",
    "for file in [f for f in listdir(\"stepped\")]:\n",
    "    image = Image.open(join(\"stepped\",file))\n",
    "    w, h = image.size\n",
    "    image.crop((0, 16, w, h-16)).resize((int(w/2), int(h/2)),Image.ANTIALIAS).save(join(\"stepped\",file))"
   ]
  },
  {
   "cell_type": "code",
   "execution_count": 4,
   "metadata": {
    "collapsed": false
   },
   "outputs": [
    {
     "data": {
      "text/plain": [
       "0"
      ]
     },
     "execution_count": 4,
     "metadata": {},
     "output_type": "execute_result"
    }
   ],
   "source": [
    "system(\"convert stepped/*.jpg result.gif\")"
   ]
  },
  {
   "cell_type": "code",
   "execution_count": null,
   "metadata": {
    "collapsed": true
   },
   "outputs": [],
   "source": []
  }
 ],
 "metadata": {
  "kernelspec": {
   "display_name": "Python 3",
   "language": "python",
   "name": "python3"
  },
  "language_info": {
   "codemirror_mode": {
    "name": "ipython",
    "version": 3
   },
   "file_extension": ".py",
   "mimetype": "text/x-python",
   "name": "python",
   "nbconvert_exporter": "python",
   "pygments_lexer": "ipython3",
   "version": "3.5.2"
  }
 },
 "nbformat": 4,
 "nbformat_minor": 1
}
